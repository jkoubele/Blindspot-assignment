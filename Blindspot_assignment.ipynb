{
 "cells": [
  {
   "cell_type": "markdown",
   "metadata": {},
   "source": [
    "## Setup"
   ]
  },
  {
   "cell_type": "code",
   "execution_count": 2,
   "metadata": {
    "collapsed": true
   },
   "outputs": [],
   "source": [
    "import numpy as np\n",
    "from matplotlib import pyplot as plt\n",
    "from sklearn import linear_model\n"
   ]
  },
  {
   "cell_type": "markdown",
   "metadata": {},
   "source": [
    "## Part 1 - linearly separable data"
   ]
  },
  {
   "cell_type": "code",
   "execution_count": 5,
   "metadata": {
    "scrolled": true
   },
   "outputs": [
    {
     "name": "stdout",
     "output_type": "stream",
     "text": [
      "Error on test data: 0.0\n",
      "Error on train data: 0.0\n"
     ]
    },
    {
     "data": {
      "image/png": "[encoded data removed]",
      "text/plain": [
       "<matplotlib.figure.Figure at 0x2124d7c00f0>"
      ]
     },
     "metadata": {},
     "output_type": "display_data"
    }
   ],
   "source": [
    "X=np.loadtxt(\"data/linsep-traindata.csv\", delimiter=',')\n",
    "y=np.loadtxt(\"data/linsep-trainclass.csv\", delimiter=',')\n",
    "n=len(y)\n",
    "\n",
    "shuffle_ind=np.arange(n)\n",
    "np.random.shuffle(shuffle_ind)\n",
    "\n",
    "X=X[shuffle_ind]\n",
    "y=y[shuffle_ind]\n",
    "\n",
    "logreg = linear_model.LogisticRegression()\n",
    "\n",
    "error_test=0\n",
    "cross_val_folds=10\n",
    "for i in range(cross_val_folds):\n",
    "    train_mask=np.ones(n, dtype=bool)    \n",
    "    train_mask[int(i*n/cross_val_folds):int((i+1)*n/cross_val_folds)]=False\n",
    "    \n",
    "    X_train=X[train_mask]\n",
    "    y_train=y[train_mask]\n",
    "    X_test=X[train_mask==False]\n",
    "    y_test=y[train_mask==False]\n",
    "    logreg.fit(X_train, y_train)\n",
    "    pred=logreg.predict(X_test)\n",
    "    \n",
    "    error_test+=np.sum(pred!=y_test)  \n",
    "error_test/=n   \n",
    "print(\"Error on test data:\",error_test)\n",
    "\n",
    "logreg.fit(X, y)\n",
    "\n",
    "pred_train=logreg.predict(X)\n",
    "error_train=np.average(pred_train!=y)\n",
    "print(\"Error on train data:\",error_train)\n",
    "\n",
    "decision_boundary_x=np.asarray([-6,8])\n",
    "decision_boundary_y=(-logreg.intercept_-logreg.coef_[0,0]*decision_boundary_x)/logreg.coef_[0,1]\n",
    "\n",
    "plt.scatter(X[y==1,0], X[y==1,1], c='b')\n",
    "plt.scatter(X[y==-1,0], X[y==-1,1], c='r')\n",
    "plt.plot(decision_boundary_x, decision_boundary_y)\n",
    "plt.show()    \n"
   ]
  },
  {
   "cell_type": "markdown",
   "metadata": {},
   "source": [
    "## Part 2 - nonseparable data"
   ]
  },
  {
   "cell_type": "code",
   "execution_count": 9,
   "metadata": {},
   "outputs": [
    {
     "name": "stdout",
     "output_type": "stream",
     "text": [
      "Error on test data: 0.05\n",
      "Error on train data: 0.03\n"
     ]
    },
    {
     "data": {
      "image/png": "[encoded data removed]",
      "text/plain": [
       "<matplotlib.figure.Figure at 0x2124f8857b8>"
      ]
     },
     "metadata": {},
     "output_type": "display_data"
    }
   ],
   "source": [
    "X=np.loadtxt(\"data/nonlinsep-traindata.csv\", delimiter=',')\n",
    "y=np.loadtxt(\"data/nonlinsep-trainclass.csv\", delimiter=',')\n",
    "n=len(y)\n",
    "\n",
    "\n",
    "shuffle_ind=np.arange(n)\n",
    "np.random.shuffle(shuffle_ind)\n",
    "\n",
    "X=X[shuffle_ind]\n",
    "y=y[shuffle_ind]\n",
    "\n",
    "logreg = linear_model.LogisticRegression()\n",
    "\n",
    "error_test=0\n",
    "cross_val_folds=10\n",
    "for i in range(cross_val_folds):\n",
    "    train_mask=np.ones(n, dtype=bool)    \n",
    "    train_mask[int(i*n/cross_val_folds):int((i+1)*n/cross_val_folds)]=False\n",
    "    \n",
    "    X_train=X[train_mask]\n",
    "    y_train=y[train_mask]\n",
    "    X_test=X[train_mask==False]\n",
    "    y_test=y[train_mask==False]\n",
    "    logreg.fit(X_train, y_train)\n",
    "    pred=logreg.predict(X_test)\n",
    "    \n",
    "    error_test+=np.sum(pred!=y_test)  \n",
    "  \n",
    "error_test/=n\n",
    "print(\"Error on test data:\",error_test)\n",
    "\n",
    "logreg.fit(X, y)\n",
    "\n",
    "pred_train=logreg.predict(X)\n",
    "error_train=np.average(pred_train!=y)\n",
    "print(\"Error on train data:\",error_train)\n",
    "\n",
    "decision_boundary_x=np.asarray([-2,3])\n",
    "decision_boundary_y=(-logreg.intercept_-logreg.coef_[0,0]*decision_boundary_x)/logreg.coef_[0,1]\n",
    "\n",
    "plt.scatter(X[y==1,0], X[y==1,1], c='b')\n",
    "plt.scatter(X[y==-1,0], X[y==-1,1], c='r')\n",
    "plt.plot(decision_boundary_x, decision_boundary_y)\n",
    "plt.show()  "
   ]
  },
  {
   "cell_type": "markdown",
   "metadata": {},
   "source": [
    "## Discussion\n",
    "Both datasets are 'easy' in a sense that they are lowdimensional, and first dataset is linearly separable."
   ]
  }
 ],
 "metadata": {
  "kernelspec": {
   "display_name": "Python 3",
   "language": "python",
   "name": "python3"
  },
  "language_info": {
   "codemirror_mode": {
    "name": "ipython",
    "version": 3
   },
   "file_extension": ".py",
   "mimetype": "text/x-python",
   "name": "python",
   "nbconvert_exporter": "python",
   "pygments_lexer": "ipython3",
   "version": "3.5.3"
  }
 },
 "nbformat": 4,
 "nbformat_minor": 2
}
